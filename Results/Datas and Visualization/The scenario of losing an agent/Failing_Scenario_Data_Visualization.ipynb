{
 "cells": [
  {
   "cell_type": "code",
   "execution_count": 7,
   "metadata": {},
   "outputs": [],
   "source": [
    "import pandas as pd\n",
    "import numpy as np\n",
    "from bokeh.plotting import show , output_file, figure\n",
    "from bokeh.models import Span, Legend, ColumnDataSource, NumeralTickFormatter, Label, LabelSet, Range1d\n"
   ]
  },
  {
   "cell_type": "code",
   "execution_count": 8,
   "metadata": {},
   "outputs": [],
   "source": [
    "x1 = pd.read_csv('x1.csv')           # Importing Data.\n",
    "x2 = pd.read_csv('x2.csv')\n",
    "x3 = pd.read_csv('x3.csv')\n",
    "x4 = pd.read_csv('x4.csv')\n",
    "xc = pd.read_csv('xc.csv')\n",
    "\n",
    "y1 = pd.read_csv('y1.csv')\n",
    "y2 = pd.read_csv('y2.csv')\n",
    "y3 = pd.read_csv('y3.csv')\n",
    "y4 = pd.read_csv('y4.csv')\n",
    "yc = pd.read_csv('yc.csv')"
   ]
  },
  {
   "cell_type": "code",
   "execution_count": 9,
   "metadata": {},
   "outputs": [],
   "source": [
    "output_file('Failing_Scenario.html')           # Creating Output.\n",
    "xc3 = xc.to_numpy()                # Preparing data for plotting.\n",
    "y11 = y1.to_numpy()\n",
    "x11 = x1.to_numpy()\n",
    "y22 = y2.to_numpy()\n",
    "x22 = x2.to_numpy()\n",
    "y33 = y3.to_numpy()\n",
    "x44 = x4.to_numpy()\n",
    "x33 = x3.to_numpy()\n",
    "y44 = y4.to_numpy()\n",
    "yc3 = yc.to_numpy()\n",
    "                                  # Drawing a figure on output.\n",
    "p = figure(title='Scenario of Losing an Agent', width=1500, height=800 ,toolbar_location=None, tools=\"\",background_fill_color=\"#fafafa\")\n",
    " \n",
    "p.line(xc3[:,0], yc3[:,0], color='red', legend_label=\"Trajectory\")     # Lining the Trajectory on the figure.\n",
    "\n",
    "p.legend.location='top_left'             # Setting detailes of the figure.\n",
    "p.xgrid.grid_line_color=None\n",
    "p.axis.minor_tick_line_color=None\n",
    "p.yaxis.axis_line_color=None\n",
    "p.xaxis.axis_line_color='black'\n",
    "p.axis.major_tick_line_color=None                                                 \n",
    "p.outline_line_color = None  \n",
    "show(p)\n"
   ]
  },
  {
   "cell_type": "code",
   "execution_count": 10,
   "metadata": {},
   "outputs": [],
   "source": [
    "a = [0 ,3]                             \n",
    "                                       # Plotting normal part of data.\n",
    "for i in a:\n",
    "    yy1 = y11[15000+i*3000]            # We plot Agent #1 with hexes, Agent #2 with squares, \n",
    "    yy2 = y22[15000+i*3000]            #  Agent #3 with diamonds, Agent #4 with inverted triangles,\n",
    "    yy3 = y33[15000+i*3000]            #  and the Virtual Leader with circles.\n",
    "    yy4 = y44[15000+i*3000]\n",
    "    yyc = yc3[15000+i*3000]\n",
    "    xx1 = x11[15000+i*3000]\n",
    "    xx2 = x22[15000+i*3000]\n",
    "    xx3 = x33[15000+i*3000]\n",
    "    xx4 = x44[15000+i*3000]\n",
    "    xxc = xc3[15000+i*3000]\n",
    "    \n",
    "\n",
    "    p.hex(xx1[0],yy1[0], size=15, legend_label=\"Agent #1\")\n",
    "    p.square(xx2[0],yy2[0], size=15, color='orange', fill_color='silver', legend_label=\"Agent #2\")\n",
    "    p.diamond(xx3[0],yy3[0], size=16,color='darkred' , fill_color='red', legend_label=\"Agent #3\")\n",
    "    p.inverted_triangle(xx4[0],yy4[0], size=16, color='blue', fill_color='silver', legend_label=\"Agent #4\" )\n",
    "    p.line([xx1[0],xx2[0],xx3[0],xx4[0],xx1[0]], [yy1[0],yy2[0],yy3[0],yy4[0],yy1[0]],color='black', line_dash=\"4 4\")\n",
    "    p.circle(xxc[0], yyc[0], size=6, color=\"navy\", alpha=0.5, legend_label=\"Virtual Leader\")\n",
    "    \n",
    "\n",
    "show(p)\n",
    "\n"
   ]
  },
  {
   "cell_type": "code",
   "execution_count": 11,
   "metadata": {},
   "outputs": [],
   "source": [
    "yy1 = y11[40000]\n",
    "yy2 = y22[40000]\n",
    "yy3 = y33[40000]\n",
    "yyc = yc3[40000]\n",
    "xx1 = x11[40000]\n",
    "xx2 = x22[40000]\n",
    "xx3 = x33[40000]\n",
    "xxc = xc3[40000]\n",
    "    \n",
    "p.hex(xx1[0],yy1[0], size=15)\n",
    "p.square(xx2[0],yy2[0], size=15, color='orange', fill_color='silver')\n",
    "p.diamond(xx3[0],yy3[0], size=16,color='darkred' , fill_color='red')\n",
    "p.line([xx1[0],xx2[0],xx3[0],xx1[0]], [yy1[0],yy2[0],yy3[0],yy1[0]],color='black', line_dash=\"4 4\")\n",
    "p.circle(xxc[0], yyc[0], size=6, color=\"navy\", alpha=0.5)\n",
    "    \n",
    "\n",
    "a = [0 ,3 ,6 ,9]\n",
    "\n",
    "for i in a:\n",
    "    yy1 = y11[42000+i*3000]\n",
    "    yy2 = y22[42000+i*3000]\n",
    "    yy3 = y33[42000+i*3000]\n",
    "    yyc = yc3[42000+i*3000]\n",
    "    xx1 = x11[42000+i*3000]\n",
    "    xx2 = x22[42000+i*3000]\n",
    "    xx3 = x33[42000+i*3000]\n",
    "    xxc = xc3[42000+i*3000]\n",
    "    \n",
    "\n",
    "    p.hex(xx1[0],yy1[0], size=15)\n",
    "    p.square(xx2[0],yy2[0], size=15, color='orange', fill_color='silver')\n",
    "    p.diamond(xx3[0],yy3[0], size=16,color='darkred' , fill_color='red')\n",
    "    p.line([xx1[0],xx2[0],xx3[0],xx1[0]], [yy1[0],yy2[0],yy3[0],yy1[0]],color='black', line_dash=\"4 4\")\n",
    "    p.circle(xxc[0], yyc[0], size=6, color=\"navy\", alpha=0.5)\n",
    "    \n",
    "\n",
    "show(p)\n"
   ]
  },
  {
   "cell_type": "code",
   "execution_count": 12,
   "metadata": {},
   "outputs": [],
   "source": [
    "yyc = yc3[0]\n",
    "xxc = xc3[0]    \n",
    "p.circle(xxc[0], yyc[0], size=6, color=\"navy\", alpha=0.5)\n",
    "yyc = yc3[79999]\n",
    "xxc = xc3[79999]    \n",
    "p.circle(xxc[0], yyc[0], size=6, color=\"navy\", alpha=0.5)\n",
    "p.line([x11[79999][0],x22[79999][0],x33[79999][0],x11[79999][0]], [y11[79999][0],y22[79999][0],y33[79999][0],y11[79999][0]],color='fuchsia', line_dash=\"4 4\")\n",
    "p.hex(x11[79999][0],y11[79999][0], size=15, legend_label=\"Agent #1\")\n",
    "p.square(x22[79999][0],y22[79999][0], size=15, color='orange', fill_color='silver', legend_label=\"Agent #2\")\n",
    "p.diamond(x33[79999][0],y33[79999][0], size=16, color='darkred' , fill_color='red' ,legend_label=\"Agent #3\")\n",
    "p.add_layout(Span(location=xc3[40000][0], dimension='height', line_color='indigo', line_dash=\"4 4\", line_width=2))\n",
    "\n",
    "show(p)\n"
   ]
  },
  {
   "cell_type": "code",
   "execution_count": null,
   "metadata": {},
   "outputs": [],
   "source": []
  }
 ],
 "metadata": {
  "kernelspec": {
   "display_name": "Python 3",
   "language": "python",
   "name": "python3"
  },
  "language_info": {
   "codemirror_mode": {
    "name": "ipython",
    "version": 3
   },
   "file_extension": ".py",
   "mimetype": "text/x-python",
   "name": "python",
   "nbconvert_exporter": "python",
   "pygments_lexer": "ipython3",
   "version": "3.7.6"
  }
 },
 "nbformat": 4,
 "nbformat_minor": 4
}
